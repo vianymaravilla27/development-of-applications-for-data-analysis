{
 "cells": [
  {
   "cell_type": "code",
   "execution_count": null,
   "metadata": {},
   "outputs": [],
   "source": [
    "codigo = dict()\n",
    "\n",
    "codigo = {\n",
    "\"A\" : \"Alfa\" , \"B\" : \"Bravo\",\n",
    "\"C\" : \"Canada\", \"D\" : \"Delta\",\n",
    "\"E\" : \"Echo\" , \"F\": \"Foxtrot\",\n",
    "\"G\": \"Golf\" , \"H\": \"Hotel\", \"I\": \"India\",\n",
    "\"J\": \"Juliet\", \"K\": \"Kilo\" , \"L\": \"Lima\" ,\n",
    "\"M\": \"Mike\", \"N\":\"November\", \"O\": \"Oscar\",\n",
    "\"P\": \"Papa\", \"Q\": \"Quebec\", \"R\": \"Romeo\",\n",
    "\"S\": \"Sierra\", \"T\": \"Tango\", \"U\": \"Uniform\",\n",
    "\"V\":\"Victor\", \"W\": \"Whiskey\",\"X\": \"X-ray\",\n",
    "\"Y\": \"Yankee\", \"Z\": \"Zulu\"\n",
    "}"
   ]
  },
  {
   "cell_type": "code",
   "execution_count": 13,
   "metadata": {},
   "outputs": [
    {
     "name": "stdout",
     "output_type": "stream",
     "text": [
      "A -> Alfa\n",
      "B -> Bravo\n",
      "C -> Canada\n",
      "D -> Delta\n",
      "E -> Echo\n",
      "F -> Foxtrot\n",
      "G -> Golf\n",
      "H -> Hotel\n",
      "I -> India\n",
      "J -> Juliet\n",
      "K -> Kilo\n",
      "L -> Lima\n",
      "M -> Mike\n",
      "N -> November\n",
      "O -> Oscar\n",
      "P -> Papa\n",
      "Q -> Quebec\n",
      "R -> Romeo\n",
      "S -> Sierra\n",
      "T -> Tango\n",
      "U -> Uniform\n",
      "V -> Victor\n",
      "W -> Whiskey\n",
      "X -> X-ray\n",
      "Y -> Yankee\n",
      "Z -> Zulu\n",
      "Ñ -> Ñoño\n",
      "LL -> LLano\n",
      "SS -> Eszett\n"
     ]
    }
   ],
   "source": [
    "for k,v in codigo.items(): \n",
    "    print(\"%s -> %s\" %(k,v))\n"
   ]
  },
  {
   "cell_type": "code",
   "execution_count": 14,
   "metadata": {},
   "outputs": [
    {
     "name": "stdout",
     "output_type": "stream",
     "text": [
      "El numero de elementos del cuccionario es: 29\n"
     ]
    }
   ],
   "source": [
    "numElEM = len(codigo)\n",
    "print(\"El numero de elementos del cuccionario es: %i\" %numElEM)"
   ]
  },
  {
   "cell_type": "code",
   "execution_count": 17,
   "metadata": {},
   "outputs": [
    {
     "name": "stdout",
     "output_type": "stream",
     "text": [
      "Las claves del diccionario son dict_keys(['A', 'B', 'C', 'D', 'E', 'F', 'G', 'H', 'I', 'J', 'K', 'L', 'M', 'N', 'O', 'P', 'Q', 'R', 'S', 'T', 'U', 'V', 'W', 'X', 'Y', 'Z', 'Ñ', 'LL', 'SS'])\n"
     ]
    }
   ],
   "source": [
    "claves = codigo.keys()\n",
    "print(\"Las claves del diccionario son %s\" %claves)"
   ]
  },
  {
   "cell_type": "code",
   "execution_count": 19,
   "metadata": {},
   "outputs": [
    {
     "name": "stdout",
     "output_type": "stream",
     "text": [
      "Los valores del diccionario son dict_values(['Alfa', 'Bravo', 'Canada', 'Delta', 'Echo', 'Foxtrot', 'Golf', 'Hotel', 'India', 'Juliet', 'Kilo', 'Lima', 'Mike', 'November', 'Oscar', 'Papa', 'Quebec', 'Romeo', 'Sierra', 'Tango', 'Uniform', 'Victor', 'Whiskey', 'X-ray', 'Yankee', 'Zulu', 'Ñoño', 'LLano', 'Eszett'])\n"
     ]
    }
   ],
   "source": [
    "valores = codigo.values()\n",
    "print(\"Los valores del diccionario son %s\" %valores)"
   ]
  },
  {
   "cell_type": "code",
   "execution_count": null,
   "metadata": {},
   "outputs": [],
   "source": [
    "val = codigo.get(\"D\")\n",
    "print( \"El valor de val es: \" , val)"
   ]
  },
  {
   "cell_type": "code",
   "execution_count": null,
   "metadata": {},
   "outputs": [],
   "source": [
    "codigoExtra = {\n",
    "    \"Ñ\":\"Ñoño\", \"LL\":\"LLano\", \"SS\":\"Eszett\"\n",
    "}\n",
    "codigo.update(codigoExtra)"
   ]
  },
  {
   "cell_type": "code",
   "execution_count": null,
   "metadata": {},
   "outputs": [],
   "source": [
    "codigo"
   ]
  }
 ],
 "metadata": {
  "interpreter": {
   "hash": "12e7b2db913c7cced4d5bf71ce365c438f2053887e824f813caa9208ccef4b13"
  },
  "kernelspec": {
   "display_name": "Python 3.9.7 ('base')",
   "language": "python",
   "name": "python3"
  },
  "language_info": {
   "codemirror_mode": {
    "name": "ipython",
    "version": 3
   },
   "file_extension": ".py",
   "mimetype": "text/x-python",
   "name": "python",
   "nbconvert_exporter": "python",
   "pygments_lexer": "ipython3",
   "version": "3.9.7"
  },
  "orig_nbformat": 4
 },
 "nbformat": 4,
 "nbformat_minor": 2
}
