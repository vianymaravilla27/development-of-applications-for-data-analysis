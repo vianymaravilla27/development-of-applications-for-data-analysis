{
 "cells": [
  {
   "cell_type": "markdown",
   "metadata": {},
   "source": [
    "### Calculadora de numero complejos "
   ]
  },
  {
   "cell_type": "markdown",
   "metadata": {},
   "source": [
    "Creamos un numero complejo"
   ]
  },
  {
   "cell_type": "code",
   "execution_count": 23,
   "metadata": {},
   "outputs": [],
   "source": [
    "import cmath"
   ]
  },
  {
   "cell_type": "code",
   "execution_count": 24,
   "metadata": {},
   "outputs": [],
   "source": [
    "def introducir_numeros():\n",
    "    a = float(input(\"Introduce la primera cifra Real\"))\n",
    "    b = float(input(\"Introduce la primera cifra Imaginaria\"))\n",
    "    x =  convertir(a,b) \n",
    "    c = float(input(\"Introduce la segunda cifra Real\"))\n",
    "    d = float(input(\"Introduce la segunda cifra Imaginaria\"))\n",
    "    y =  b\n",
    "    return x,y\n"
   ]
  },
  {
   "cell_type": "code",
   "execution_count": null,
   "metadata": {},
   "outputs": [],
   "source": []
  },
  {
   "cell_type": "code",
   "execution_count": 25,
   "metadata": {},
   "outputs": [
    {
     "data": {
      "text/plain": [
       "(1-3j)"
      ]
     },
     "execution_count": 25,
     "metadata": {},
     "output_type": "execute_result"
    }
   ],
   "source": [
    "con = 1 + 3j \n",
    "c7 = con.conjugate()\n",
    "c7"
   ]
  },
  {
   "cell_type": "code",
   "execution_count": 26,
   "metadata": {},
   "outputs": [],
   "source": [
    "def convertir(x,y):\n",
    "    x = str(x)\n",
    "    y = str(y)\n",
    "    y = y+\"j\"\n",
    "    complejo =  x+\"+\"+y\n",
    "    float(complejo)\n",
    "    return complejo"
   ]
  },
  {
   "cell_type": "code",
   "execution_count": 27,
   "metadata": {},
   "outputs": [
    {
     "ename": "ValueError",
     "evalue": "could not convert string to float: '3+5j'",
     "output_type": "error",
     "traceback": [
      "\u001b[0;31m---------------------------------------------------------------------------\u001b[0m",
      "\u001b[0;31mValueError\u001b[0m                                Traceback (most recent call last)",
      "\u001b[0;32m/var/folders/zb/0l4s85s95rzbg13c3_fm6k540000gn/T/ipykernel_16543/3702953483.py\u001b[0m in \u001b[0;36m<module>\u001b[0;34m\u001b[0m\n\u001b[0;32m----> 1\u001b[0;31m \u001b[0mconvertir\u001b[0m\u001b[0;34m(\u001b[0m\u001b[0;36m3\u001b[0m\u001b[0;34m,\u001b[0m\u001b[0;36m5\u001b[0m\u001b[0;34m)\u001b[0m\u001b[0;34m\u001b[0m\u001b[0;34m\u001b[0m\u001b[0m\n\u001b[0m",
      "\u001b[0;32m/var/folders/zb/0l4s85s95rzbg13c3_fm6k540000gn/T/ipykernel_16543/1728397225.py\u001b[0m in \u001b[0;36mconvertir\u001b[0;34m(x, y)\u001b[0m\n\u001b[1;32m      4\u001b[0m     \u001b[0my\u001b[0m \u001b[0;34m=\u001b[0m \u001b[0my\u001b[0m\u001b[0;34m+\u001b[0m\u001b[0;34m\"j\"\u001b[0m\u001b[0;34m\u001b[0m\u001b[0;34m\u001b[0m\u001b[0m\n\u001b[1;32m      5\u001b[0m     \u001b[0mcomplejo\u001b[0m \u001b[0;34m=\u001b[0m  \u001b[0mx\u001b[0m\u001b[0;34m+\u001b[0m\u001b[0;34m\"+\"\u001b[0m\u001b[0;34m+\u001b[0m\u001b[0my\u001b[0m\u001b[0;34m\u001b[0m\u001b[0;34m\u001b[0m\u001b[0m\n\u001b[0;32m----> 6\u001b[0;31m     \u001b[0mfloat\u001b[0m\u001b[0;34m(\u001b[0m\u001b[0mcomplejo\u001b[0m\u001b[0;34m)\u001b[0m\u001b[0;34m\u001b[0m\u001b[0;34m\u001b[0m\u001b[0m\n\u001b[0m\u001b[1;32m      7\u001b[0m     \u001b[0;32mreturn\u001b[0m \u001b[0mcomplejo\u001b[0m\u001b[0;34m\u001b[0m\u001b[0;34m\u001b[0m\u001b[0m\n",
      "\u001b[0;31mValueError\u001b[0m: could not convert string to float: '3+5j'"
     ]
    }
   ],
   "source": [
    "convertir(3,5)\n"
   ]
  },
  {
   "cell_type": "code",
   "execution_count": null,
   "metadata": {},
   "outputs": [
    {
     "ename": "TypeError",
     "evalue": "unsupported operand type(s) for +: 'float' and 'str'",
     "output_type": "error",
     "traceback": [
      "\u001b[0;31m---------------------------------------------------------------------------\u001b[0m",
      "\u001b[0;31mTypeError\u001b[0m                                 Traceback (most recent call last)",
      "\u001b[0;32m/var/folders/zb/0l4s85s95rzbg13c3_fm6k540000gn/T/ipykernel_10081/2736375517.py\u001b[0m in \u001b[0;36m<module>\u001b[0;34m\u001b[0m\n\u001b[0;32m----> 1\u001b[0;31m \u001b[0mx\u001b[0m \u001b[0;34m=\u001b[0m \u001b[0mintroducir_numeros\u001b[0m\u001b[0;34m(\u001b[0m\u001b[0;34m)\u001b[0m\u001b[0;34m\u001b[0m\u001b[0;34m\u001b[0m\u001b[0m\n\u001b[0m",
      "\u001b[0;32m/var/folders/zb/0l4s85s95rzbg13c3_fm6k540000gn/T/ipykernel_10081/4015595571.py\u001b[0m in \u001b[0;36mintroducir_numeros\u001b[0;34m()\u001b[0m\n\u001b[1;32m      2\u001b[0m     \u001b[0ma\u001b[0m \u001b[0;34m=\u001b[0m \u001b[0mfloat\u001b[0m\u001b[0;34m(\u001b[0m\u001b[0minput\u001b[0m\u001b[0;34m(\u001b[0m\u001b[0;34m\"Introduce la primera cifra Real\"\u001b[0m\u001b[0;34m)\u001b[0m\u001b[0;34m)\u001b[0m\u001b[0;34m\u001b[0m\u001b[0;34m\u001b[0m\u001b[0m\n\u001b[1;32m      3\u001b[0m     \u001b[0mb\u001b[0m \u001b[0;34m=\u001b[0m \u001b[0mfloat\u001b[0m\u001b[0;34m(\u001b[0m\u001b[0minput\u001b[0m\u001b[0;34m(\u001b[0m\u001b[0;34m\"Introduce la primera cifra Imaginaria\"\u001b[0m\u001b[0;34m)\u001b[0m\u001b[0;34m)\u001b[0m\u001b[0;34m\u001b[0m\u001b[0;34m\u001b[0m\u001b[0m\n\u001b[0;32m----> 4\u001b[0;31m     \u001b[0mx\u001b[0m \u001b[0;34m=\u001b[0m  \u001b[0mconvertir\u001b[0m\u001b[0;34m(\u001b[0m\u001b[0ma\u001b[0m\u001b[0;34m,\u001b[0m\u001b[0mb\u001b[0m\u001b[0;34m)\u001b[0m\u001b[0;34m\u001b[0m\u001b[0;34m\u001b[0m\u001b[0m\n\u001b[0m\u001b[1;32m      5\u001b[0m     \u001b[0mc\u001b[0m \u001b[0;34m=\u001b[0m \u001b[0mfloat\u001b[0m\u001b[0;34m(\u001b[0m\u001b[0minput\u001b[0m\u001b[0;34m(\u001b[0m\u001b[0;34m\"Introduce la segunda cifra Real\"\u001b[0m\u001b[0;34m)\u001b[0m\u001b[0;34m)\u001b[0m\u001b[0;34m\u001b[0m\u001b[0;34m\u001b[0m\u001b[0m\n\u001b[1;32m      6\u001b[0m     \u001b[0md\u001b[0m \u001b[0;34m=\u001b[0m \u001b[0mfloat\u001b[0m\u001b[0;34m(\u001b[0m\u001b[0minput\u001b[0m\u001b[0;34m(\u001b[0m\u001b[0;34m\"Introduce la segunda cifra Imaginaria\"\u001b[0m\u001b[0;34m)\u001b[0m\u001b[0;34m)\u001b[0m\u001b[0;34m\u001b[0m\u001b[0;34m\u001b[0m\u001b[0m\n",
      "\u001b[0;32m/var/folders/zb/0l4s85s95rzbg13c3_fm6k540000gn/T/ipykernel_10081/2782080661.py\u001b[0m in \u001b[0;36mconvertir\u001b[0;34m(x, y)\u001b[0m\n\u001b[1;32m      1\u001b[0m \u001b[0;32mdef\u001b[0m \u001b[0mconvertir\u001b[0m\u001b[0;34m(\u001b[0m\u001b[0mx\u001b[0m\u001b[0;34m,\u001b[0m\u001b[0my\u001b[0m\u001b[0;34m)\u001b[0m\u001b[0;34m:\u001b[0m\u001b[0;34m\u001b[0m\u001b[0;34m\u001b[0m\u001b[0m\n\u001b[0;32m----> 2\u001b[0;31m     \u001b[0mcomplejo\u001b[0m \u001b[0;34m=\u001b[0m \u001b[0mx\u001b[0m \u001b[0;34m+\u001b[0m \u001b[0my\u001b[0m\u001b[0;34m+\u001b[0m\u001b[0;34m\"j\"\u001b[0m\u001b[0;34m\u001b[0m\u001b[0;34m\u001b[0m\u001b[0m\n\u001b[0m\u001b[1;32m      3\u001b[0m     \u001b[0;32mreturn\u001b[0m \u001b[0mcomplejo\u001b[0m\u001b[0;34m\u001b[0m\u001b[0;34m\u001b[0m\u001b[0m\n",
      "\u001b[0;31mTypeError\u001b[0m: unsupported operand type(s) for +: 'float' and 'str'"
     ]
    }
   ],
   "source": [
    "x = introducir_numeros()"
   ]
  },
  {
   "cell_type": "code",
   "execution_count": null,
   "metadata": {},
   "outputs": [],
   "source": [
    "def suma():\n",
    "    y = x[0] + x[1]\n",
    "    print (\"Suma: \" , y)\n",
    "def resta():\n",
    "    y = x[0] - x[1]\n",
    "    print (\"Resta: \" , y)\n",
    "def multiplicacion():\n",
    "    y = x[0] * x[1]\n",
    "    print (\"Multiplicacion:\" , y)\n",
    "def division():\n",
    "    y = x[0] / x[1]\n",
    "    print (\"Division: \" , y)\n",
    "    "
   ]
  },
  {
   "cell_type": "code",
   "execution_count": null,
   "metadata": {},
   "outputs": [],
   "source": [
    "def operaciones():\n",
    "    suma()\n",
    "    resta()\n",
    "    multiplicacion()\n",
    "    division()"
   ]
  },
  {
   "cell_type": "code",
   "execution_count": null,
   "metadata": {},
   "outputs": [
    {
     "name": "stdout",
     "output_type": "stream",
     "text": [
      "Suma:  (5+8j)\n",
      "Resta:  (-3-2j)\n",
      "Multiplicacion: (-11+17j)\n",
      "Division:  (0.4634146341463415+0.17073170731707324j)\n"
     ]
    }
   ],
   "source": [
    "operaciones()"
   ]
  },
  {
   "cell_type": "code",
   "execution_count": 37,
   "metadata": {},
   "outputs": [
    {
     "name": "stdout",
     "output_type": "stream",
     "text": [
      "(2+10j)\n",
      "(3+5j)\n",
      "\n",
      " Suma:\n",
      "(5+15j)\n",
      "\n",
      " Resta:\n",
      "(-1+5j)\n",
      "\n",
      " Multiplicacion:\n",
      "(56+40j)\n",
      "\n",
      " Division:\n",
      "(-3.5-2.5j)\n"
     ]
    },
    {
     "data": {
      "text/plain": [
       "<__main__.Complexa at 0x1106c41c0>"
      ]
     },
     "execution_count": 37,
     "metadata": {},
     "output_type": "execute_result"
    }
   ],
   "source": [
    "import math\n",
    "from math import sqrt\n",
    "\n",
    "class Complexa(object):\n",
    "#C, los números complejos se crean a \n",
    "#partir de un número real y uno imaginario. El __init__ define los valores que forman el número complejo inicializando el valor de self.\n",
    "\n",
    "    def __init__(self, real, imag=0.0):\n",
    "        self.real = real\n",
    "        self.imag = imag\n",
    "        # Damos formato a nuestros resultados\n",
    "        print(self.real + self.imag)\n",
    "\n",
    "    #sobrecagrga de operadores\n",
    "    def __add__(self, other):\n",
    "        print('\\n Suma:')\n",
    "        #Mandamos a traer la funcion inicial complexa \n",
    "        return Complexa(self.real + other.real, self.imag + other.imag)\n",
    "    #sobrecagrga de operadores\n",
    "    def __sub__(self, other):\n",
    "        print('\\n Resta:')\n",
    "        return Complexa(self.real - other.real, self.imag - other.imag)\n",
    "    #sobrecagrga de operadores\n",
    "    def __mul__(self, other):\n",
    "        print('\\n Multiplicacion:')\n",
    "        return Complexa((self.real * other.real) - (self.imag * other.imag),\n",
    "            (self.imag * other.real) + (self.real * other.imag))\n",
    "    #sobrecagrga de operadores\n",
    "    def __truediv__(self, other):\n",
    "        print('\\n Division:')\n",
    "        r = (other.real**2 + other.imag**2)\n",
    "        return Complexa((self.real*other.real - self.imag*other.imag)/r,\n",
    "            (self.imag*other.real + self.real*other.imag)/r)\n",
    "\n",
    "   \n",
    "\n",
    "\n",
    "i = Complexa(2, 10j)\n",
    "p = Complexa(3, 5j)\n",
    "\n",
    "# Suma\n",
    "i + p\n",
    "# Resta\n",
    "i - p\n",
    "# Multiplicacion\n",
    "i * p\n",
    "# Division\n",
    "i / p\n"
   ]
  },
  {
   "cell_type": "code",
   "execution_count": null,
   "metadata": {},
   "outputs": [],
   "source": [
    "class numeroComplejo:\n",
    "    partereal=0\n",
    "    parteImag=0\n",
    "\n",
    "    def __init__(self, real=0, imag=0):\n",
    "      self.partereal = real\n",
    "      self.parteImag = imag\n",
    "    def impNumComp(self):\n",
    "      print(\"numero comepljo\")\n",
    "    \n",
    "\n",
    "\n",
    "\n"
   ]
  },
  {
   "cell_type": "markdown",
   "metadata": {},
   "source": []
  }
 ],
 "metadata": {
  "interpreter": {
   "hash": "31f2aee4e71d21fbe5cf8b01ff0e069b9275f58929596ceb00d14d90e3e16cd6"
  },
  "kernelspec": {
   "display_name": "Python 3.8.9 64-bit",
   "language": "python",
   "name": "python3"
  },
  "language_info": {
   "codemirror_mode": {
    "name": "ipython",
    "version": 3
   },
   "file_extension": ".py",
   "mimetype": "text/x-python",
   "name": "python",
   "nbconvert_exporter": "python",
   "pygments_lexer": "ipython3",
   "version": "3.8.9"
  },
  "orig_nbformat": 4
 },
 "nbformat": 4,
 "nbformat_minor": 2
}
