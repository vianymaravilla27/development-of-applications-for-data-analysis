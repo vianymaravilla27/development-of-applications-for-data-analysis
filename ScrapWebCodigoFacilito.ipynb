{
 "cells": [
  {
   "cell_type": "code",
   "execution_count": 1,
   "metadata": {},
   "outputs": [],
   "source": [
    "from bs4 import BeautifulSoup\n",
    "import requests\n",
    "url = \"https://codigofacilito.com/cursos\"\n",
    "soup = BeautifulSoup(requests.get(url).text, 'html5lib')"
   ]
  },
  {
   "cell_type": "code",
   "execution_count": 2,
   "metadata": {},
   "outputs": [],
   "source": [
    "#f-card f-padding-16 flex-block flex-column\n",
    "\n",
    "#article\n",
    "\n",
    "ul = soup.find_all('article', 'f-card f-padding-16 flex-block flex-column')"
   ]
  },
  {
   "cell_type": "code",
   "execution_count": 3,
   "metadata": {},
   "outputs": [
    {
     "data": {
      "text/plain": [
       "{'titulo_curso_0': '\\nTaller de Deploy de Aplicaciones con Laravel\\n',\n",
       " 'des_curso_0': 'En este curso aprenderás a realizar el deploy de una aplicación escrita en Laravel. ',\n",
       " 'titulo_curso_1': '\\nIntroducción a Ruby on Rails - Clases del Bootcamp de Rails \\n',\n",
       " 'des_curso_1': 'Aprende desde 0 Rails, qué necesitas para instalar, y cómo crear tus primeras vistas HTML',\n",
       " 'titulo_curso_2': '\\nIntroducción a Ruby - Clases del Bootcamp de Rails\\n',\n",
       " 'des_curso_2': 'En esta clase del Bootcamp de Rails damos un repaso de Ruby el lenguaje para que puedas arrancar en su uso ...',\n",
       " 'titulo_curso_3': '\\nMinicurso para configurar tu entorno de Ruby on Rails\\n',\n",
       " 'des_curso_3': 'En este minicurso de 5 vídeos aprenderás a instalar Ruby, y Ruby on Rails en Windows, Mac, Linux, además, u...',\n",
       " 'titulo_curso_4': '\\nIntroducción a React y JSX - Clases del Bootcamp de React\\n',\n",
       " 'des_curso_4': 'Historia de React, la arquitectura de componentes, el virtual DOM, y la sintaxis de JSX',\n",
       " 'titulo_curso_5': '\\nEsenciales de React - Clases del bootcamp de React\\n',\n",
       " 'des_curso_5': 'TOP CURSO',\n",
       " 'titulo_curso_6': '\\nCurso profesional de C# 10\\n',\n",
       " 'des_curso_6': 'El curso trata de conocer el lenguaje C#, en su versión más nueva (10) y .NET 6. C#\\xa0es el lenguaje principa...',\n",
       " 'titulo_curso_7': '\\nCurso de introducción al análisis de datos con Python\\n',\n",
       " 'des_curso_7': 'TOP CURSO',\n",
       " 'titulo_curso_8': '\\nCurso profesional de JavaScript\\n',\n",
       " 'des_curso_8': 'TOP CURSO',\n",
       " 'titulo_curso_9': '\\nCurso profesional de Python\\n',\n",
       " 'des_curso_9': 'TOP CURSO',\n",
       " 'titulo_curso_10': '\\nCurso de introducción a la programación\\n',\n",
       " 'des_curso_10': 'TOP CURSO',\n",
       " 'titulo_curso_11': '\\nCurso Profesional de Base de Datos\\n',\n",
       " 'des_curso_11': 'TOP CURSO',\n",
       " 'titulo_curso_12': '\\nCurso Profesional Desarrollo Web\\n',\n",
       " 'des_curso_12': 'TOP CURSO',\n",
       " 'titulo_curso_13': '\\nCurso Profesional de React\\n',\n",
       " 'des_curso_13': 'TOP CURSO',\n",
       " 'titulo_curso_14': '\\nCurso de Programación Orientada a Objetos\\n',\n",
       " 'des_curso_14': 'TOP CURSO',\n",
       " 'titulo_curso_15': '\\nCurso de Docker\\n',\n",
       " 'des_curso_15': 'TOP CURSO',\n",
       " 'titulo_curso_16': '\\nCurso Profesional de JAVA\\n',\n",
       " 'des_curso_16': 'TOP CURSO',\n",
       " 'titulo_curso_17': '\\nCurso Profesional de Backend\\n',\n",
       " 'des_curso_17': 'TOP CURSO',\n",
       " 'titulo_curso_18': '\\nCurso a fondo de SASS\\n',\n",
       " 'des_curso_18': 'TOP CURSO',\n",
       " 'titulo_curso_19': '\\nCurso profesional de Dart\\n',\n",
       " 'des_curso_19': 'TOP CURSO'}"
      ]
     },
     "execution_count": 3,
     "metadata": {},
     "output_type": "execute_result"
    }
   ],
   "source": [
    "ListaTitlos = []\n",
    "Informacion = {}\n",
    "\n",
    "contador = 0\n",
    "for link in ul:\n",
    "   # ListaTitlos.append(link.find('h2').get_text())\n",
    "   Informacion.update({\"titulo_curso_\" + str(contador): link.find('h2').get_text() ,\"des_curso_\" + str(contador): link.find('p').get_text() })\n",
    "   contador += 1\n",
    "\n",
    "\n",
    "#ListaTitlos\n",
    "\n",
    "Informacion"
   ]
  },
  {
   "cell_type": "code",
   "execution_count": null,
   "metadata": {},
   "outputs": [],
   "source": []
  }
 ],
 "metadata": {
  "interpreter": {
   "hash": "31f2aee4e71d21fbe5cf8b01ff0e069b9275f58929596ceb00d14d90e3e16cd6"
  },
  "kernelspec": {
   "display_name": "Python 3.8.9 64-bit",
   "language": "python",
   "name": "python3"
  },
  "language_info": {
   "codemirror_mode": {
    "name": "ipython",
    "version": 3
   },
   "file_extension": ".py",
   "mimetype": "text/x-python",
   "name": "python",
   "nbconvert_exporter": "python",
   "pygments_lexer": "ipython3",
   "version": "3.8.9"
  },
  "orig_nbformat": 4
 },
 "nbformat": 4,
 "nbformat_minor": 2
}
