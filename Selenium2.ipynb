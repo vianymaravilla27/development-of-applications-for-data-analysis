{
 "cells": [
  {
   "cell_type": "markdown",
   "metadata": {},
   "source": [
    "Programacion de selenium segundo Intento\n",
    " "
   ]
  },
  {
   "cell_type": "code",
   "execution_count": 5,
   "metadata": {},
   "outputs": [
    {
     "name": "stderr",
     "output_type": "stream",
     "text": [
      "/var/folders/zb/0l4s85s95rzbg13c3_fm6k540000gn/T/ipykernel_11860/2411949559.py:4: DeprecationWarning: executable_path has been deprecated, please pass in a Service object\n",
      "  driver = webdriver.Chrome(executable_path=DRIVER_PATH)\n"
     ]
    }
   ],
   "source": [
    "from selenium import webdriver\n",
    "from selenium.webdriver.common.by import By\n",
    "DRIVER_PATH = '/Users/vianemaravilla/Downloads/chromedriver'\n",
    "driver = webdriver.Chrome(executable_path=DRIVER_PATH)\n"
   ]
  },
  {
   "cell_type": "code",
   "execution_count": 6,
   "metadata": {},
   "outputs": [],
   "source": [
    "driver.get('https://administradorpurimatic.herokuapp.com/')\n",
    "\n",
    "\n",
    "\n",
    "mail_input = '/html/body/div[1]/div/div[2]/div/div[2]/form/div/div[1]/div[1]/input'\n",
    "mail_input2 = '/html/body/div[1]/div/div[2]/div/div[2]/form/div/div[1]/div[1]/input'\n",
    "\n",
    "username_input = '/html/body/div[1]/div/div[2]/div/div[2]/form/div/div[1]/div[2]/input'\n",
    "\n",
    "password_input = '//*[@id=\"profile\"]/form/div/div[2]/div/input'\n",
    "password_input2 = 'password'\n",
    "\n",
    "login_submit = '/html/body/div[1]/div/div[2]/div/div[1]/form/div/div[2]/input'\n",
    "a_href_admin2 = '/html/body/div[1]/div/div[2]/div/div[2]/form/div/div[2]/input'\n",
    "\n",
    "ahref = driver.find_element(By.LINK_TEXT, \"Admin\").click()\n",
    "mail = driver.find_element(By.XPATH, mail_input2)\n",
    "driver.implicitly_wait(3)\n",
    "mail.send_keys(\"purimatic@hotmail.com\")\n",
    "\n",
    "user = driver.find_element(By.XPATH,username_input)\n",
    "driver.implicitly_wait(3)\n",
    "user.send_keys(\"purimatic\")\n",
    "\n",
    "psw = driver.find_element(By.XPATH,password_input)\n",
    "driver.implicitly_wait(3)\n",
    "psw.send_keys(\"purimatic\")\n",
    "\n",
    "\n",
    "\n",
    "\n",
    "driver.implicitly_wait(3)\n",
    "submit = driver.find_element(By.XPATH,a_href_admin2)\n",
    "driver.implicitly_wait(3)\n",
    "submit.click()\n"
   ]
  },
  {
   "cell_type": "code",
   "execution_count": null,
   "metadata": {},
   "outputs": [],
   "source": []
  }
 ],
 "metadata": {
  "interpreter": {
   "hash": "12e7b2db913c7cced4d5bf71ce365c438f2053887e824f813caa9208ccef4b13"
  },
  "kernelspec": {
   "display_name": "Python 3.9.7 ('base')",
   "language": "python",
   "name": "python3"
  },
  "language_info": {
   "codemirror_mode": {
    "name": "ipython",
    "version": 3
   },
   "file_extension": ".py",
   "mimetype": "text/x-python",
   "name": "python",
   "nbconvert_exporter": "python",
   "pygments_lexer": "ipython3",
   "version": "3.9.7"
  },
  "orig_nbformat": 4
 },
 "nbformat": 4,
 "nbformat_minor": 2
}
