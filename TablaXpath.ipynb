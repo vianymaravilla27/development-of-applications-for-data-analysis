{
 "cells": [
  {
   "cell_type": "markdown",
   "metadata": {},
   "source": [
    "### Medio Ambiente CO2"
   ]
  },
  {
   "cell_type": "code",
   "execution_count": 26,
   "metadata": {},
   "outputs": [],
   "source": [
    "from bs4 import BeautifulSoup\n",
    "import requests\n",
    "import matplotlib.pyplot as plt  \n",
    "import numpy as np\n",
    "#Obtenemos el Url de la pagina que vamos a hacer scrapping\n",
    "url = \"https://datosmacro.expansion.com/energia-y-medio-ambiente\"   \n",
    "soup = BeautifulSoup(requests.get(url).text, 'html5lib')"
   ]
  },
  {
   "cell_type": "code",
   "execution_count": 27,
   "metadata": {},
   "outputs": [],
   "source": [
    "tabla = soup.find('table', {\"id\": \"bw10\"})\n"
   ]
  },
  {
   "cell_type": "code",
   "execution_count": 28,
   "metadata": {},
   "outputs": [
    {
     "data": {
      "text/plain": [
       "<table class=\"table tableair table-condensed table-hover\" id=\"bw10\"><thead><tr class=\"tableheader\"><th colspan=\"3\">Los mejores</th></tr></thead><tbody><tr><td><a href=\"/energia-y-medio-ambiente/emisiones-co2/kiribati\">Kiribati [+]</a></td><td class=\"numero\" data-value=\"0.064\">0,064</td><td class=\"hbar wdsp1_2\"><div class=\"graph_hbar\" style=\"background-color: #CE1126; width:0%;\" title=\"0,064\"></div></td></tr><tr><td><a href=\"/energia-y-medio-ambiente/emisiones-co2/san-vicente-las-granadinas\">San Vicente y las Granadinas [+]</a></td><td class=\"numero\" data-value=\"0.116\">0,116</td><td class=\"hbar\"><div class=\"graph_hbar\" style=\"background-color: #FCD116; width:0%;\" title=\"0,116\"></div></td></tr><tr><td><a href=\"/energia-y-medio-ambiente/emisiones-co2/tonga\">Tonga [+]</a></td><td class=\"numero\" data-value=\"0.124\">0,124</td><td class=\"hbar\"><div class=\"graph_hbar\" style=\"background-color: #C10000; width:0%;\" title=\"0,124\"></div></td></tr><tr><td><a href=\"/energia-y-medio-ambiente/emisiones-co2/santo-tome-principe\">Santo Tomé y Príncipe [+]</a></td><td class=\"numero\" data-value=\"0.135\">0,135</td><td class=\"hbar\"><div class=\"graph_hbar\" style=\"background-color: #12AD2B; width:0%;\" title=\"0,135\"></div></td></tr><tr><td><a href=\"/energia-y-medio-ambiente/emisiones-co2/san-cristobal-nieves\">San Cristóbal y Nieves [+]</a></td><td class=\"numero\" data-value=\"0.139\">0,139</td><td class=\"hbar\"><div class=\"graph_hbar\" style=\"background-color: #009E49; width:0%;\" title=\"0,139\"></div></td></tr></tbody></table>"
      ]
     },
     "execution_count": 28,
     "metadata": {},
     "output_type": "execute_result"
    }
   ],
   "source": [
    "tabla"
   ]
  },
  {
   "cell_type": "code",
   "execution_count": 29,
   "metadata": {},
   "outputs": [
    {
     "name": "stdout",
     "output_type": "stream",
     "text": [
      "None\n",
      "None\n",
      "<a href=\"/energia-y-medio-ambiente/emisiones-co2/kiribati\">Kiribati [+]</a>\n",
      "<td class=\"numero\" data-value=\"0.064\">0,064</td>\n"
     ]
    }
   ],
   "source": [
    "#Creacion de lista - primera forma para desarrollarlo\n",
    "for x in tabla:\n",
    "    #Buscamos en la seccion de codigo todos los td[0] con ese nombre de atributo\n",
    "    pais = x.find('a')\n",
    "    print(pais)\n",
    "    #Buscamos en la seccion de codigo todos los td[1] con ese nombbre de atributo\n",
    "    porcentaje = x.find('td' ,{\"class\":\"numero\"})\n",
    "    print(porcentaje)\n",
    "\n",
    "\n",
    "\n"
   ]
  }
 ],
 "metadata": {
  "interpreter": {
   "hash": "12e7b2db913c7cced4d5bf71ce365c438f2053887e824f813caa9208ccef4b13"
  },
  "kernelspec": {
   "display_name": "Python 3.9.7 ('base')",
   "language": "python",
   "name": "python3"
  },
  "language_info": {
   "codemirror_mode": {
    "name": "ipython",
    "version": 3
   },
   "file_extension": ".py",
   "mimetype": "text/x-python",
   "name": "python",
   "nbconvert_exporter": "python",
   "pygments_lexer": "ipython3",
   "version": "3.9.7"
  },
  "orig_nbformat": 4
 },
 "nbformat": 4,
 "nbformat_minor": 2
}
