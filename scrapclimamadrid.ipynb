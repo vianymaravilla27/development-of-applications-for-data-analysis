{
 "cells": [
  {
   "cell_type": "code",
   "execution_count": 3,
   "metadata": {},
   "outputs": [
    {
     "data": {
      "text/plain": [
       "<Response [200]>"
      ]
     },
     "execution_count": 3,
     "metadata": {},
     "output_type": "execute_result"
    }
   ],
   "source": [
    "url  = \"https://airedemadrid.madrid.es/portal/site/calidadaire\"\n",
    "\n",
    "\n",
    "import requests\n",
    "\n",
    "request = requests.get(url)\n",
    "request"
   ]
  },
  {
   "cell_type": "markdown",
   "metadata": {},
   "source": [
    "Programa de consulta de txt a xlsx"
   ]
  },
  {
   "cell_type": "code",
   "execution_count": 10,
   "metadata": {},
   "outputs": [
    {
     "name": "stdout",
     "output_type": "stream",
     "text": [
      "<Response [200]>\n"
     ]
    },
    {
     "data": {
      "image/png": "[encoded data removed]",
      "text/plain": [
       "<Figure size 432x288 with 1 Axes>"
      ]
     },
     "metadata": {
      "needs_background": "light"
     },
     "output_type": "display_data"
    }
   ],
   "source": [
    "import matplotlib.pyplot as plt  \n",
    "import requests\n",
    "import csv\n",
    "# Se ubica el recurso\n",
    "url=\"http://www.mambiente.munimadrid.es//opendata/horario.txt\"\n",
    "# Se hace la peticion\n",
    "resp = requests.get(url)\n",
    "print(resp)\n",
    "# Se crea la ruta a donde se guardara\n",
    "path=\"/Users/adolfohuerta/OneDrive - Instituto Politecnico Nacional/DAAD/documentos/\"\n",
    "with open(path+\"horario.xlsx\",\"r\") as output:\n",
    "    readCSV =csv.reader(output,delimiter = ',')\n",
    "    for row in readCSV:\n",
    "        if(row[0]+row[1]+row[2]=='28079004' and row[3]=='12'):\n",
    "            plt.title(\"Oxido de nitrogeno\" + row[8] +\"/\"+row[7]+\"/\"+row[6])\n",
    "            hora = 0\n",
    "            vmch = 9\n",
    "            valValido = []\n",
    "            horas = []\n",
    "            while hora <= 23:\n",
    "                if row[vmch+2*hora+1] == 'V':\n",
    "                    valValido.append(row[vmch+2*hora])\n",
    "                    horas.append(hora)\n",
    "                hora = hora+1\n",
    "            plt.plot(horas,valValido)\n",
    "            plt.show()\n"
   ]
  },
  {
   "cell_type": "markdown",
   "metadata": {},
   "source": [
    "Grafiquen con un elemnto de contaminacion con CDMX y graficar"
   ]
  },
  {
   "cell_type": "code",
   "execution_count": null,
   "metadata": {},
   "outputs": [],
   "source": [
    "#https://www.accuweather.com/es/mx/mexico-city/242560/daily-weather-forecast/242560"
   ]
  }
 ],
 "metadata": {
  "interpreter": {
   "hash": "31f2aee4e71d21fbe5cf8b01ff0e069b9275f58929596ceb00d14d90e3e16cd6"
  },
  "kernelspec": {
   "display_name": "Python 3.8.9 64-bit",
   "language": "python",
   "name": "python3"
  },
  "language_info": {
   "codemirror_mode": {
    "name": "ipython",
    "version": 3
   },
   "file_extension": ".py",
   "mimetype": "text/x-python",
   "name": "python",
   "nbconvert_exporter": "python",
   "pygments_lexer": "ipython3",
   "version": "3.8.9"
  },
  "orig_nbformat": 4
 },
 "nbformat": 4,
 "nbformat_minor": 2
}
