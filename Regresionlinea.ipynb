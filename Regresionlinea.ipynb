{
 "cells": [
  {
   "cell_type": "markdown",
   "metadata": {},
   "source": [
    "Regresion lineal xd a mano"
   ]
  },
  {
   "cell_type": "code",
   "execution_count": 133,
   "metadata": {},
   "outputs": [
    {
     "name": "stdout",
     "output_type": "stream",
     "text": [
      "[0, 1, 2, 3, 4, 5, 6, 7, 8, 9, 10, 11, 12, 13, 14, 15, 16, 17, 18, 19, 20, 21, 22, 23, 24, 25, 26, 27, 28, 29, 30, 31, 32, 33, 34, 35, 36, 37, 38, 39, 40, 41, 42, 43, 44, 45, 46, 47, 48, 49, 50, 51, 52, 53, 54, 55, 56, 57, 58, 59]\n",
      "[74, 61, 69, 67, 69, 64, 81, 61, 83, 65, 99, 83, 85, 82, 62, 83, 69, 86, 96, 68, 97, 80, 65, 70, 74, 88, 71, 65, 74, 74, 90, 87, 61, 85, 97, 71, 67, 60, 90, 100, 87, 86, 71, 95, 65, 60, 65, 62, 66, 76, 79, 72, 68, 78, 95, 79, 92, 87, 79, 95]\n"
     ]
    }
   ],
   "source": [
    "import random\n",
    "arregloX = []\n",
    "arregloY = []\n",
    "for x in range(60):\n",
    "    arregloX.append(x)\n",
    "print(arregloX)\n",
    "for x in range(60):\n",
    "    numero = random.randint(60, 100)\n",
    "    arregloY.append(numero)\n",
    "print(arregloY)"
   ]
  },
  {
   "cell_type": "markdown",
   "metadata": {},
   "source": [
    "Graficamos esta aberracion"
   ]
  },
  {
   "cell_type": "code",
   "execution_count": 134,
   "metadata": {},
   "outputs": [
    {
     "data": {
      "image/png": "[encoded data removed]",
      "text/plain": [
       "<Figure size 432x288 with 1 Axes>"
      ]
     },
     "metadata": {
      "needs_background": "light"
     },
     "output_type": "display_data"
    }
   ],
   "source": [
    "import matplotlib.pyplot as plt\n",
    "import numpy as np\n",
    "plt.scatter(arregloX, arregloY)\n",
    "plt.show()"
   ]
  },
  {
   "cell_type": "markdown",
   "metadata": {},
   "source": [
    "Ya luego ps vamos a sacar los productos de esta madre"
   ]
  },
  {
   "cell_type": "code",
   "execution_count": 135,
   "metadata": {},
   "outputs": [
    {
     "name": "stdout",
     "output_type": "stream",
     "text": [
      "[0, 61, 138, 201, 276, 320, 486, 427, 664, 585, 990, 913, 1020, 1066, 868, 1245, 1104, 1462, 1728, 1292, 1940, 1680, 1430, 1610, 1776, 2200, 1846, 1755, 2072, 2146, 2700, 2697, 1952, 2805, 3298, 2485, 2412, 2220, 3420, 3900, 3480, 3526, 2982, 4085, 2860, 2700, 2990, 2914, 3168, 3724, 3950, 3672, 3536, 4134, 5130, 4345, 5152, 4959, 4582, 5605]\n"
     ]
    }
   ],
   "source": [
    "XY = []\n",
    "for x in range(60):\n",
    "    \n",
    "    XY.append(arregloY[x]*arregloX[x])\n",
    "print(XY)"
   ]
  },
  {
   "cell_type": "code",
   "execution_count": 136,
   "metadata": {},
   "outputs": [
    {
     "name": "stdout",
     "output_type": "stream",
     "text": [
      "[0, 1, 4, 9, 16, 25, 36, 49, 64, 81, 100, 121, 144, 169, 196, 225, 256, 289, 324, 361, 400, 441, 484, 529, 576, 625, 676, 729, 784, 841, 900, 961, 1024, 1089, 1156, 1225, 1296, 1369, 1444, 1521, 1600, 1681, 1764, 1849, 1936, 2025, 2116, 2209, 2304, 2401, 2500, 2601, 2704, 2809, 2916, 3025, 3136, 3249, 3364, 3481]\n"
     ]
    }
   ],
   "source": [
    "X2 = []\n",
    "for x in range(60): \n",
    "    X2.append(arregloX[x]**2)\n",
    "print(X2)"
   ]
  },
  {
   "cell_type": "markdown",
   "metadata": {},
   "source": [
    "Aca sacamos los valores más imporantes"
   ]
  },
  {
   "cell_type": "code",
   "execution_count": 137,
   "metadata": {},
   "outputs": [
    {
     "name": "stdout",
     "output_type": "stream",
     "text": [
      "SUMATORIA X 1770\n",
      "SUMATORIA Y 4630\n",
      "SUMATORIA XY 138684\n",
      "SUMATORIA X2 70210\n"
     ]
    }
   ],
   "source": [
    "sumatoriaX =  0\n",
    "sumatoriaY = 0\n",
    "SumatoriaXiYi = 0\n",
    "SumatoriaXi2 = 0\n",
    "\n",
    "for x in range(60): \n",
    "    sumatoriaX = arregloX[x] + sumatoriaX\n",
    "print(\"SUMATORIA X\" , sumatoriaX)\n",
    "\n",
    "for x in range(60): \n",
    "    sumatoriaY = arregloY[x] + sumatoriaY\n",
    "print(\"SUMATORIA Y\", sumatoriaY)\n",
    "\n",
    "for x in range(60): \n",
    "    SumatoriaXiYi = XY[x] + SumatoriaXiYi\n",
    "print(\"SUMATORIA XY\", SumatoriaXiYi)\n",
    "\n",
    "for x in range(60): \n",
    "    SumatoriaXi2 = X2[x] + SumatoriaXi2\n",
    "print(\"SUMATORIA X2\",SumatoriaXi2)"
   ]
  },
  {
   "cell_type": "code",
   "execution_count": 138,
   "metadata": {},
   "outputs": [
    {
     "name": "stdout",
     "output_type": "stream",
     "text": [
      "29.5\n",
      "77.16666666666667\n"
     ]
    }
   ],
   "source": [
    "Xbarra = sumatoriaX/60\n",
    "Ybarra = sumatoriaY/60\n",
    "\n",
    "print(Xbarra)\n",
    "print(Ybarra)"
   ]
  },
  {
   "cell_type": "markdown",
   "metadata": {},
   "source": [
    "Aca va la formula mas importante"
   ]
  },
  {
   "cell_type": "code",
   "execution_count": 139,
   "metadata": {},
   "outputs": [
    {
     "name": "stdout",
     "output_type": "stream",
     "text": [
      "0.11664351208669074\n"
     ]
    }
   ],
   "source": [
    "b = ( SumatoriaXiYi - 60*(Xbarra)*(Ybarra)) / (SumatoriaXi2 - 60*(Xbarra**2))\n",
    "print(b)"
   ]
  },
  {
   "cell_type": "code",
   "execution_count": 140,
   "metadata": {},
   "outputs": [
    {
     "data": {
      "text/plain": [
       "73.72568306010929"
      ]
     },
     "execution_count": 140,
     "metadata": {},
     "output_type": "execute_result"
    }
   ],
   "source": [
    "C = Ybarra-b*Xbarra\n",
    "C"
   ]
  },
  {
   "cell_type": "code",
   "execution_count": 141,
   "metadata": {},
   "outputs": [
    {
     "data": {
      "text/plain": [
       "73.84232657219599"
      ]
     },
     "execution_count": 141,
     "metadata": {},
     "output_type": "execute_result"
    }
   ],
   "source": [
    "def prediccion(x):\n",
    "    p = b*x + C\n",
    "    return p \n",
    "prediccion(1)"
   ]
  },
  {
   "cell_type": "code",
   "execution_count": 142,
   "metadata": {},
   "outputs": [
    {
     "data": {
      "image/png": "[encoded data removed]",
      "text/plain": [
       "<Figure size 432x288 with 1 Axes>"
      ]
     },
     "metadata": {
      "needs_background": "light"
     },
     "output_type": "display_data"
    }
   ],
   "source": [
    "from matplotlib import pyplot\n",
    "\n",
    "#Función Lineal.\n",
    "def f(x):\n",
    "    return b*x + C\n",
    "#En esta variable se genera una lista con valores del -10 al 10.\n",
    "#Todos estos valores serán los que tomara x.\n",
    "x = range(0, 60)\n",
    "\n",
    "#Con el método plot especificamos que función graficaremos.\n",
    "#El primer argumento es la variable con los valores de x.\n",
    "#El segundo argumento le pasamos todos estos valares a la función con ayuda de un bucle.\n",
    "pyplot.plot(x, [f(i) for i in x])\n",
    "\n",
    "#Establecemos el color de los ejes.\n",
    "pyplot.axhline(0, color=\"black\")\n",
    "pyplot.axvline(0, color=\"black\")\n",
    "\n",
    "\n",
    "\n",
    "\n",
    "\n",
    "\n",
    "# Mostramos el gráfico.\n",
    "pyplot.show()"
   ]
  },
  {
   "cell_type": "code",
   "execution_count": 143,
   "metadata": {},
   "outputs": [
    {
     "data": {
      "image/png": "[encoded data removed]",
      "text/plain": [
       "<Figure size 432x288 with 1 Axes>"
      ]
     },
     "metadata": {
      "needs_background": "light"
     },
     "output_type": "display_data"
    }
   ],
   "source": [
    "import numpy as np\n",
    "import matplotlib.pyplot as plt \n",
    "\n",
    "\n",
    "\n",
    "plt.scatter(arregloX,arregloY,color=\"red\")\n",
    "plt.title(\"Scatter Plot of the data\")\n",
    "plt.xlabel(\"X\")\n",
    "plt.ylabel(\"Y\")\n",
    "\n",
    "x = np.arange(100)\n",
    "def f(x):\n",
    "    return b*x + C\n",
    "pyplot.plot(x, [f(i) for i in x])\n",
    "plt.plot(x,f(x),color=\"green\")\n",
    "\n",
    "plt.show()"
   ]
  },
  {
   "cell_type": "code",
   "execution_count": null,
   "metadata": {},
   "outputs": [],
   "source": []
  }
 ],
 "metadata": {
  "interpreter": {
   "hash": "918e8139115b3d601757b94f96edf53bf934c2a76b9b699b4b283943d25dba9f"
  },
  "kernelspec": {
   "display_name": "Python 3.8.5 32-bit",
   "language": "python",
   "name": "python3"
  },
  "language_info": {
   "codemirror_mode": {
    "name": "ipython",
    "version": 3
   },
   "file_extension": ".py",
   "mimetype": "text/x-python",
   "name": "python",
   "nbconvert_exporter": "python",
   "pygments_lexer": "ipython3",
   "version": "3.8.9"
  },
  "orig_nbformat": 4
 },
 "nbformat": 4,
 "nbformat_minor": 2
}
