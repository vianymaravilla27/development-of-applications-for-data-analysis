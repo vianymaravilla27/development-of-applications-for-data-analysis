{
 "cells": [
  {
   "cell_type": "code",
   "execution_count": 1,
   "metadata": {},
   "outputs": [
    {
     "name": "stdout",
     "output_type": "stream",
     "text": [
      "Termina con:  gatos\n"
     ]
    }
   ],
   "source": [
    "import re\n",
    "\n",
    "txt = \"comida gatos\"\n",
    "y = \"gatos\"\n",
    "#checa si termina con 'gatos':\n",
    "\n",
    "x = re.findall(y+\"$\", txt)\n",
    "if x:\n",
    "  print(\"Si Termina con: \", y )\n",
    "else:\n",
    "  print(\"No termina con: \", y)\n"
   ]
  },
  {
   "cell_type": "code",
   "execution_count": 2,
   "metadata": {},
   "outputs": [
    {
     "name": "stdout",
     "output_type": "stream",
     "text": [
      "['é', 'x']\n",
      "Si, tiene éx!\n"
     ]
    }
   ],
   "source": [
    "import re\n",
    "\n",
    "txt = \"Llueve en México\"\n",
    "\n",
    "#Checa si tiene é o x:\n",
    "\n",
    "x = re.findall(\"[éx]\", txt)\n",
    "\n",
    "print(x)\n",
    "\n",
    "if x:\n",
    "  print(\"Si, tiene éx!\")\n",
    "else:\n",
    "  print(\"No, no tiene éx\")\n"
   ]
  },
  {
   "cell_type": "code",
   "execution_count": 5,
   "metadata": {},
   "outputs": [
    {
     "name": "stdout",
     "output_type": "stream",
     "text": [
      "<re.Match object; span=(18, 24), match='python'>\n",
      "2\n"
     ]
    }
   ],
   "source": [
    "cadena=\"Hoy hay clases de python,  python hoy por hoy es jueves\"\n",
    "print(re.search(\"python\",cadena))\n",
    "print(len(re.findall(\"python\",cadena)))"
   ]
  },
  {
   "cell_type": "code",
   "execution_count": 13,
   "metadata": {},
   "outputs": [
    {
     "name": "stdout",
     "output_type": "stream",
     "text": [
      "['5', '7', '0', '0', '1', '5']\n",
      "['0', '0', '1']\n",
      "[]\n"
     ]
    }
   ],
   "source": [
    "import re \n",
    "cadena = \"Hoy tengo 5 clases de pyrhon desde las 7:00 hasta las 15. Hoy es viernes de sambuca\"\n",
    "\n",
    "print(re.findall(r'\\d',cadena))\n",
    "print(re.findall(r'[0-3]',cadena))\n",
    "print(re.findall(r'[0-9]+\\.[0-9]',cadena))\n"
   ]
  }
 ],
 "metadata": {
  "interpreter": {
   "hash": "31f2aee4e71d21fbe5cf8b01ff0e069b9275f58929596ceb00d14d90e3e16cd6"
  },
  "kernelspec": {
   "display_name": "Python 3.8.9 64-bit",
   "language": "python",
   "name": "python3"
  },
  "language_info": {
   "codemirror_mode": {
    "name": "ipython",
    "version": 3
   },
   "file_extension": ".py",
   "mimetype": "text/x-python",
   "name": "python",
   "nbconvert_exporter": "python",
   "pygments_lexer": "ipython3",
   "version": "3.8.9"
  },
  "orig_nbformat": 4
 },
 "nbformat": 4,
 "nbformat_minor": 2
}
