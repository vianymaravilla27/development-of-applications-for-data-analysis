{
 "cells": [
  {
   "cell_type": "markdown",
   "metadata": {},
   "source": [
    "Hacer un programa de una cafeteria"
   ]
  },
  {
   "cell_type": "code",
   "execution_count": 6,
   "metadata": {},
   "outputs": [],
   "source": [
    "cafeteria = dict()\n",
    "\n",
    "cafeteria = {\n",
    "\"Cafe\" : 20 , \"Torta de Pollo\" : 30,\n",
    "\"Cheesecake\": 40, \"Chocolate\" : 40,\n",
    "\"Ciabatta\": 50, \"Pan Dulce\" : 20,\n",
    "}"
   ]
  },
  {
   "cell_type": "code",
   "execution_count": 34,
   "metadata": {},
   "outputs": [
    {
     "name": "stdout",
     "output_type": "stream",
     "text": [
      "precio de Cafe  :  20\n",
      "precio de  2  :  40\n",
      "precio de Ciabatta  :  50\n",
      "precio de  3  :  150\n",
      "190\n"
     ]
    }
   ],
   "source": [
    "opcion = input(\"Seleccione una opcion \\n : 1.- Agregar \\n 2.- Eliminar \\n  3.- Mostrar \\n 4.- Carrito\")\n",
    "if(opcion == \"1\"):\n",
    "    agregar()\n",
    "elif(opcion == \"2\"):\n",
    "    eliminar()\n",
    "elif(opcion ==\"3\"):\n",
    "    mostrar()\n",
    "elif(opcion == \"4\"):\n",
    "    carrito()\n",
    "else:\n",
    "    null"
   ]
  },
  {
   "cell_type": "code",
   "execution_count": 4,
   "metadata": {},
   "outputs": [],
   "source": [
    "def agregar():\n",
    "    a= input(\"Introduce el nombre del producto\")\n",
    "    b= input(\"Introduce el precio del producto\")\n",
    "    b = int(b)\n",
    "    cafeteria.update({a: b})\n",
    "    print(\"Producto agregado!\")\n",
    "    print(cafeteria)\n"
   ]
  },
  {
   "cell_type": "code",
   "execution_count": 9,
   "metadata": {},
   "outputs": [],
   "source": [
    "def eliminar():\n",
    "    a = input(\"Introduce el nombre del producto a eliminar:\")\n",
    "    del cafeteria[a]\n",
    "    print(\"Producto eliminado!\")\n",
    "    print(cafeteria)\n"
   ]
  },
  {
   "cell_type": "code",
   "execution_count": 11,
   "metadata": {},
   "outputs": [],
   "source": [
    "def mostrar():\n",
    "    for k,v in cafeteria.items(): \n",
    "        print(\"%s -> %s\" %(k,v))\n",
    " \n",
    "    "
   ]
  },
  {
   "cell_type": "code",
   "execution_count": 25,
   "metadata": {},
   "outputs": [],
   "source": [
    "\n",
    "def carrito():\n",
    "    cierre = \"terminar\"\n",
    "    total = 0\n",
    "\n",
    "    while True:\n",
    "        producto = input(\"Ingresa nombre producto: \")\n",
    "        if producto == cierre:\n",
    "            print(total)\n",
    "            break\n",
    "\n",
    "\n",
    "        n= input(\"Ingrese la cantidad de  que quieras comprar\")\n",
    "        val = cafeteria.get(producto)\n",
    "        n = int(n)\n",
    "        print(\"precio de\", producto , \" : \",val)\n",
    "        print(\"precio de \" , n , \" : \" , n*val)\n",
    "        total = total + n*val\n",
    "        \n",
    "\n",
    "       \n",
    "   "
   ]
  },
  {
   "cell_type": "code",
   "execution_count": 31,
   "metadata": {},
   "outputs": [
    {
     "data": {
      "text/plain": [
       "{'Cafe': 20,\n",
       " 'Torta de Pollo': 30,\n",
       " 'Cheesecake': 40,\n",
       " 'Chocolate': 40,\n",
       " 'Ciabatta': 50,\n",
       " 'Pan Dulce': 20,\n",
       " 'Paleta': '20'}"
      ]
     },
     "execution_count": 31,
     "metadata": {},
     "output_type": "execute_result"
    }
   ],
   "source": [
    "cafeteria"
   ]
  }
 ],
 "metadata": {
  "interpreter": {
   "hash": "12e7b2db913c7cced4d5bf71ce365c438f2053887e824f813caa9208ccef4b13"
  },
  "kernelspec": {
   "display_name": "Python 3.9.7 ('base')",
   "language": "python",
   "name": "python3"
  },
  "language_info": {
   "codemirror_mode": {
    "name": "ipython",
    "version": 3
   },
   "file_extension": ".py",
   "mimetype": "text/x-python",
   "name": "python",
   "nbconvert_exporter": "python",
   "pygments_lexer": "ipython3",
   "version": "3.9.7"
  },
  "orig_nbformat": 4
 },
 "nbformat": 4,
 "nbformat_minor": 2
}
