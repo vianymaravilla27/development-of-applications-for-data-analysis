{
 "cells": [
  {
   "cell_type": "markdown",
   "metadata": {},
   "source": [
    "Scrapping a la Pagina de El genius.com"
   ]
  },
  {
   "cell_type": "code",
   "execution_count": 109,
   "metadata": {},
   "outputs": [],
   "source": [
    "from bs4 import BeautifulSoup\n",
    "\n",
    "import requests\n",
    "url = \"https://genius.com/#top-songs\"\n",
    "\n",
    "\n",
    "soup = BeautifulSoup(requests.get(url).text, 'html5lib')"
   ]
  },
  {
   "cell_type": "code",
   "execution_count": 110,
   "metadata": {},
   "outputs": [],
   "source": [
    "ul = soup.find('div', 'PageGridFull-idpot7-0 jeWXO')\n",
    "children = ul.findChildren()\n",
    "children = str(children)\n",
    "soup = BeautifulSoup(children)\n"
   ]
  },
  {
   "cell_type": "code",
   "execution_count": 111,
   "metadata": {},
   "outputs": [
    {
     "name": "stdout",
     "output_type": "stream",
     "text": [
      "60\n"
     ]
    }
   ],
   "source": [
    "link = soup.findAll(\"img\", {\"class\":\"SizedImage__NoScript-sc-1hyeaua-2\"})\n",
    "array = []\n",
    "for item in link:\n",
    "\n",
    " array.append(item[\"src\"])\n",
    "\n",
    "print(len(array))"
   ]
  },
  {
   "cell_type": "code",
   "execution_count": 112,
   "metadata": {},
   "outputs": [],
   "source": [
    "contador = 0\n",
    "for item in array:\n",
    "    img_data = requests.get(item).content\n",
    "    with open('./imgscrap/image_name'+str(contador)+'.jpg', 'wb') as handler:   \n",
    "        handler.write(img_data)\n",
    "    contador = contador + 1"
   ]
  }
 ],
 "metadata": {
  "interpreter": {
   "hash": "31f2aee4e71d21fbe5cf8b01ff0e069b9275f58929596ceb00d14d90e3e16cd6"
  },
  "kernelspec": {
   "display_name": "Python 3.8.9 64-bit",
   "language": "python",
   "name": "python3"
  },
  "language_info": {
   "codemirror_mode": {
    "name": "ipython",
    "version": 3
   },
   "file_extension": ".py",
   "mimetype": "text/x-python",
   "name": "python",
   "nbconvert_exporter": "python",
   "pygments_lexer": "ipython3",
   "version": "3.8.9"
  },
  "orig_nbformat": 4
 },
 "nbformat": 4,
 "nbformat_minor": 2
}
