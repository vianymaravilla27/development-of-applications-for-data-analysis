{
 "cells": [
  {
   "cell_type": "code",
   "execution_count": 1,
   "id": "7633d06d",
   "metadata": {},
   "outputs": [],
   "source": [
    "import csv\n",
    "\n",
    "miLista = [[\"Num\",\"Materia\",\"Profesor\"],\n",
    "            [1,\"Matematicas\",\"Juan Perez\"],\n",
    "            [2 ,\"Fisica\", \"Adolfo\"],\n",
    "            [3 , \"Ingles\", \"Andres\"],\n",
    "            [4, \"Historia\", \"Benito Juarez\"]\n",
    "        ]\n",
    "\n",
    "with open('profes.csv','w', newline='') as arch:\n",
    "    #a = append deja existiendo el archivo y agrega\n",
    "    #w = write borra y cre uno nuevo \n",
    "    #r = read \n",
    "    escritor = csv.writer(arch)\n",
    "    escritor.writerows(miLista)"
   ]
  },
  {
   "cell_type": "code",
   "execution_count": 2,
   "id": "96baf1b7",
   "metadata": {},
   "outputs": [],
   "source": [
    "import csv\n",
    "\n",
    "miLista = [[\"Num\",\"Materia\",\"Profesor\"],\n",
    "            [1,\"Matematicas\",\"Juan Perez\"],\n",
    "            [2 ,\"Fisica\", \"Adolfo\"],\n",
    "            [3 , \"Ingles\", \"Andres\"],\n",
    "            [4 , \"Francés\", \"Andres Nuñoz\"],\n",
    "            [5, \"Historia\", \"Benito Juarez\"]\n",
    "        ]\n",
    "\n",
    "with open('profes2.csv','w', encoding='utf-8', newline='') as arch:\n",
    "    escritor = csv.writer(arch)\n",
    "    escritor.writerows(miLista)"
   ]
  },
  {
   "cell_type": "code",
   "execution_count": 3,
   "id": "eba769bc",
   "metadata": {},
   "outputs": [],
   "source": [
    "import csv\n",
    "\n",
    "\n",
    "\n",
    "with open('profes3.csv','w', encoding='utf-8', newline='') as arch:\n",
    "    campos = ['Materia','Profesor']\n",
    "    escritor = csv.DictWriter(arch, fieldnames=campos)\n",
    "    \n",
    "    escritor.writeheader()\n",
    "    escritor.writerow({'Materia': 'Matematicas', 'Profesor': 'Juan Perez'})\n",
    "    escritor.writerow({'Materia': 'Fisica', 'Profesor': 'Juan Dominguez'})\n",
    "    escritor.writerow({'Materia': 'Quimica', 'Profesor': 'Juan Ramirez'})\n",
    "    escritor.writerow({'Materia': 'Ingles', 'Profesor': 'Sara Reyes'})"
   ]
  },
  {
   "cell_type": "code",
   "execution_count": 4,
   "id": "0488f62f",
   "metadata": {},
   "outputs": [
    {
     "name": "stdout",
     "output_type": "stream",
     "text": [
      "El encabezado es Num, Materia, Profesor\n",
      "El profesor\t Juan Perez imparte la materia Matematicas.\n",
      "El profesor\t Adolfo imparte la materia Fisica.\n",
      "El profesor\t Andres imparte la materia Ingles.\n",
      "El profesor\t Benito Juarez imparte la materia Historia.\n",
      "Se imprimieron 5 lineas. \n"
     ]
    }
   ],
   "source": [
    "import csv\n",
    "with open('profes.csv','r', encoding='utf-8', newline='') as arch:\n",
    "    lectorCsv = csv.reader(arch,delimiter=',')\n",
    "    contLinea= 0\n",
    "    for linea in lectorCsv:\n",
    "        if contLinea == 0:\n",
    "            print(f'El encabezado es {\", \".join(linea)}')\n",
    "            contLinea  += 1 \n",
    "        else:\n",
    "            print(f'El profesor\\t {linea[2]} imparte la materia {linea[1]}.')\n",
    "            contLinea += 1\n",
    "    print(f'Se imprimieron {contLinea} lineas. ')"
   ]
  },
  {
   "cell_type": "code",
   "execution_count": 5,
   "id": "8aa53fdb",
   "metadata": {},
   "outputs": [
    {
     "name": "stdout",
     "output_type": "stream",
     "text": [
      "Juan Perez Matematicas\n",
      "Adolfo Fisica\n",
      "Andres Ingles\n",
      "Benito Juarez Historia\n"
     ]
    }
   ],
   "source": [
    "import csv\n",
    "with open('profes.csv',newline='') as archCSV:\n",
    "    lector = csv.DictReader(archCSV)\n",
    "    for linea in lector:\n",
    "        print(linea['Profesor'],linea['Materia'])"
   ]
  },
  {
   "cell_type": "code",
   "execution_count": 8,
   "id": "18b81d8e",
   "metadata": {},
   "outputs": [
    {
     "name": "stdout",
     "output_type": "stream",
     "text": [
      "[['2', 'Fisica', 'Adolfo'], ['3', 'Ingles', 'Andres'], ['4', 'Historia', 'Benito Juarez'], ['1', 'Matematicas', 'Juan Perez'], ['Num', 'Materia', 'Profesor']]\n"
     ]
    }
   ],
   "source": [
    "import csv,operator\n",
    "archCSV = csv.reader(open('profes.csv'))\n",
    "listaOrd = sorted(archCSV,key=operator.itemgetter(2),reverse=False)\n",
    "print(listaOrd)\n"
   ]
  },
  {
   "cell_type": "markdown",
   "id": "e8441218",
   "metadata": {},
   "source": [
    "Ejercicio:  \n",
    "1.- Ingresar un nombre de el archivo de origian , en el B meter una ruta y nombre de archivo ruta relativa<space><space> \\\n",
    "2.- Realizar una copia de archivos en el archvio de destino copiar lo mismo pero en mayusculas<space><space> \\\n",
    "3.-Cambiar la palabra de informacion a datos <space><space>\\"
   ]
  },
  {
   "cell_type": "code",
   "execution_count": 22,
   "id": "2d9aa291",
   "metadata": {},
   "outputs": [
    {
     "name": "stdout",
     "output_type": "stream",
     "text": [
      "[['Num,Materia,Profesor\\r\\n'], ['1,Matematicas,Juan Perez\\r\\n'], ['2,Fisica,Adolfo\\r\\n'], ['3,Ingles,Andres\\r\\n'], ['4,Historia,Benito Juarez\\r\\n']]\n"
     ]
    }
   ],
   "source": [
    "def Programa1():\n",
    "\n",
    "    origen = input(\"Ingresa el nombre del archivo de origen\")\n",
    "    ruta = input(\"Ingresa la ruta del archivo de destino\")\n",
    "        \n",
    "    temp = []\n",
    "\n",
    "    with open(origen,newline='') as archCSV:\n",
    "        lector = csv.reader(archCSV)\n",
    "        for linea in archCSV:\n",
    "            temp.append([linea])\n",
    "\n",
    "    print(temp)\n",
    "\n",
    "    with open(ruta,'w', encoding='utf-8', newline='') as arch:\n",
    "        escritor = csv.writer(arch)\n",
    "        escritor.writerows(temp)\n",
    "        \n",
    "Programa1()"
   ]
  },
  {
   "cell_type": "code",
   "execution_count": 23,
   "id": "70590c57",
   "metadata": {},
   "outputs": [
    {
     "name": "stdout",
     "output_type": "stream",
     "text": [
      "[['NUM,MATERIA,PROFESOR\\r\\n'], ['1,MATEMATICAS,JUAN PEREZ\\r\\n'], ['2,FISICA,ADOLFO\\r\\n'], ['3,INGLES,ANDRES\\r\\n'], ['4,HISTORIA,BENITO JUAREZ\\r\\n']]\n"
     ]
    }
   ],
   "source": [
    "def Programa2():\n",
    "\n",
    "    origen = input(\"Ingresa el nombre del archivo de origen\")\n",
    "    ruta = input(\"Ingresa la ruta del archivo de destino\")\n",
    "        \n",
    "    temp = []\n",
    "\n",
    "    with open(origen,newline='') as archCSV:\n",
    "        lector = csv.reader(archCSV)\n",
    "        for linea in archCSV:\n",
    "            temp.append([linea.upper()])\n",
    "\n",
    "    print(temp)\n",
    "\n",
    "    with open(ruta,'w', encoding='utf-8', newline='') as arch:\n",
    "        escritor = csv.writer(arch)\n",
    "        escritor.writerows(temp)\n",
    "        \n",
    "Programa2()     "
   ]
  },
  {
   "cell_type": "code",
   "execution_count": 24,
   "id": "ce2f9713",
   "metadata": {},
   "outputs": [
    {
     "name": "stdout",
     "output_type": "stream",
     "text": [
      "[['Num,Materia,Profesor\\r\\n'], ['1,Matematicas,Venustiano Perez\\r\\n'], ['2,Fisica,Adolfo\\r\\n'], ['3,Ingles,Andres\\r\\n'], ['4,Historia,Venustiano Juarez\\r\\n']]\n"
     ]
    }
   ],
   "source": [
    "def Programa3():\n",
    "\n",
    "    origen = input(\"Ingresa el nombre del archivo de origen\")\n",
    "    a = input(\"Ingresa el palabra a cambiar\")\n",
    "    b = input(\"Ingresa el palabra nueva\")\n",
    "    ruta = input(\"Ingresa la ruta del archivo de destino\")\n",
    "        \n",
    "    temp = []\n",
    "\n",
    "    with open(origen,newline='') as archCSV:\n",
    "        lector = csv.reader(archCSV)\n",
    "        for linea in archCSV:\n",
    "            nuevo = linea.replace(a,b)\n",
    "            temp.append([nuevo])\n",
    "\n",
    "    print(temp)\n",
    "\n",
    "    with open(ruta,'w', encoding='utf-8', newline='') as arch:\n",
    "        escritor = csv.writer(arch)\n",
    "        escritor.writerows(temp)\n",
    "        \n",
    "Programa3()\n",
    "    \n"
   ]
  }
 ],
 "metadata": {
  "kernelspec": {
   "display_name": "Python 3 (ipykernel)",
   "language": "python",
   "name": "python3"
  },
  "language_info": {
   "codemirror_mode": {
    "name": "ipython",
    "version": 3
   },
   "file_extension": ".py",
   "mimetype": "text/x-python",
   "name": "python",
   "nbconvert_exporter": "python",
   "pygments_lexer": "ipython3",
   "version": "3.8.9"
  }
 },
 "nbformat": 4,
 "nbformat_minor": 5
}
