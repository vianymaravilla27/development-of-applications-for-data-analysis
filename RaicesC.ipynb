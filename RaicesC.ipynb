{
 "cells": [
  {
   "cell_type": "code",
   "execution_count": 1,
   "metadata": {},
   "outputs": [],
   "source": [
    "#Se importa sqrt\n",
    "from math import sqrt\n",
    "\n",
    "#Funcion para calcular la raiz cudadra del discriminate\n",
    "def discriminante(a1 ,b1,c1):\n",
    "    d = sqrt(b1*b1 -4*a1*c1)\n",
    "    return d"
   ]
  },
  {
   "cell_type": "code",
   "execution_count": 2,
   "metadata": {},
   "outputs": [],
   "source": [
    "#Termina la funcion discriminante"
   ]
  },
  {
   "cell_type": "code",
   "execution_count": 3,
   "metadata": {},
   "outputs": [],
   "source": [
    "#Funcion para recibir los coeficientes\n",
    "def lectura():\n",
    "    a = float(input(\"Dame el coeficiente de x**2\"))\n",
    "    b = float(input(\"Dame el coeficiente de x\"))\n",
    "    c = float(input(\"Dame el coeficiente de indeoendiente\"))\n",
    "    return [a,b,c]\n",
    "    "
   ]
  },
  {
   "cell_type": "code",
   "execution_count": 4,
   "metadata": {},
   "outputs": [],
   "source": [
    "#Terminar la funcion lectura"
   ]
  },
  {
   "cell_type": "code",
   "execution_count": 5,
   "metadata": {},
   "outputs": [],
   "source": [
    "#Funcion para calcular las raices\n",
    "def calcular(a,b,c,d1):\n",
    "    x1 = (-b +d1)/2/a\n",
    "    x2 = (-b - d1)/2/a\n",
    "    return (x1,x2)\n"
   ]
  },
  {
   "cell_type": "code",
   "execution_count": 6,
   "metadata": {},
   "outputs": [],
   "source": [
    "[a,b,c] = lectura()\n",
    "d1  = discriminante(a,b,c)\n",
    "(x1,x2) = calcular(a,b,c,d1)"
   ]
  }
 ],
 "metadata": {
  "interpreter": {
   "hash": "31f2aee4e71d21fbe5cf8b01ff0e069b9275f58929596ceb00d14d90e3e16cd6"
  },
  "kernelspec": {
   "display_name": "Python 3.8.9 64-bit",
   "language": "python",
   "name": "python3"
  },
  "language_info": {
   "codemirror_mode": {
    "name": "ipython",
    "version": 3
   },
   "file_extension": ".py",
   "mimetype": "text/x-python",
   "name": "python",
   "nbconvert_exporter": "python",
   "pygments_lexer": "ipython3",
   "version": "3.8.9"
  },
  "orig_nbformat": 4
 },
 "nbformat": 4,
 "nbformat_minor": 2
}
